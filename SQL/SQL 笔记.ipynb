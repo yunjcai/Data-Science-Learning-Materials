{
 "cells": [
  {
   "cell_type": "markdown",
   "metadata": {},
   "source": [
    "# Querying Data From A Table"
   ]
  },
  {
   "cell_type": "markdown",
   "metadata": {},
   "source": [
    "<b><font color='blue'>SELECT</font> c1, c2 * 2 <font color='blue'>AS</font> \"2倍c2\", 5 <font color='blue'>FROM</font> t<br>\n",
    "<font color='blue'>WHERE</font> condition<br>\n",
    "<font color='blue'>ORDER BY</font> cx <font color='purple'>DESC</font><br>\n",
    "<font color='blue'>LIMIT</font> n;</b><br>\n",
    "* 获取表 t 中的列 c1 , 2倍的列 c2 值, 常数 5 的数据 (如使用 <b><font color='blue'>*</font></b> 则为获取所有列)。<br>\n",
    "* 可(选择性)使用关键字 <font color='blue'>AS</font> 为列设定别名。使用中文别名需用双引号 \" \" (不是单引号 ' )。<br>\n",
    "* 可以在第一个列 c1 前使用 <font color='blue'>DISTINCT</font> 可以删除重复行。(<font color='blue'>DISTINCT</font> 关键字只能用在第一个列 c1 之前。不能在其他列之前)<br>\n",
    "* 通过 <font color='blue'>WHERE</font> 子句来指定查询数据的条件。<font color='blue'>WHERE</font> 子句必须紧跟在 <font color='blue'>FROM</font> 子句之后。首先通过 <font color='blue'>WHERE</font> 子句查询出符合指定条件的记录，然后再选取出 <font color='blue'>SELECT</font> 语句指定的列。<br>\n",
    "* 是否为 <font color='blue'>NULL</font> 要用 <font color='blue'>IS (NOT) NULL</font> 运算符。<br>\n",
    "<img src='https://github.com/yunjcai/Data-Science-Learning-Materials/blob/master/SQL/SQL%20%E5%9F%BA%E7%A1%80%E6%95%99%E7%A8%8B%E7%AC%94%E8%AE%B0/1.JPG?raw=true' width='150'><br>\n",
    "* <font color='blue'>ORDER BY</font> 默认为 <font color='purple'>ASC</font> 升序。不论何种情况，<font color='blue'>ORDER BY</font> 子句都需要写在 <font color='blue'>SELECT</font> 语句的**末尾**(<font color='blue'>LIMIT</font>前)。<br>\n",
    "* <font color='blue'>LIMIT</font> 仅显示头 n 行数据。"
   ]
  },
  {
   "cell_type": "markdown",
   "metadata": {},
   "source": [
    "<b><font color='blue'>SELECT</font> c1, c2, 5, <font color='green'>aggregate</font><font color='blue'>(</font>c3<font color='blue'>)</font><br>\n",
    "<font color='blue'>FROM</font> t<br>\n",
    "<font color='blue'>WHERE</font> condition<br>\n",
    "<font color='blue'>GROUP BY</font> c1, c2<br>\n",
    "<font color='blue'>HAVING</font> condition<br>\n",
    "<font color='blue'>ORDER BY</font> cx <font color='purple'>DESC</font>;</b><br>\n",
    "\n",
    "* <font color='green'>aggregate</font><font color='blue'>(</font><font color='blue'>)</font> 聚合函数：\n",
    "    * <font color='green'>COUNT</font>： 计算表中的记录数（行数）。<font color='green'>COUNT</font><font color='blue'>(</font>*<font color='blue'>)</font>会得到包含NULL的数据行数，而<font color='green'>COUNT</font><font color='blue'>(</font><列名><font color='blue'>)</font> 会得到NULL之外的数据行数。\n",
    "    * <font color='green'>SUM</font>： 计算表中数值列中数据的总和值(只能数值型列)\n",
    "    * <font color='green'>AVG</font>： 计算表中数值列中数据的平均值(只能数值型列)\n",
    "    * <font color='green'>MAX</font>： 求出表中任意列中数据的最大值\n",
    "    * <font color='green'>MIN</font>： 求出表中任意列中数据的最小值\n",
    "    \n",
    "    \n",
    "* 不使用 <font color='blue'>GROUP BY</font> 子句时，是将表中的所有数据作为一组来对待的。而使用 <font color='blue'>GROUP BY</font> 子句时，会将表中的数据分为多个组进行处理。  \n",
    "\n",
    "\n",
    "* 使用 <font color='blue'>GROUP BY</font>时，<font color='blue'>SELECT</font> 子句中只能存在以下三种元素。\n",
    "    * 常数\n",
    "    * 聚合函数\n",
    "    * <font color='blue'>GROUP BY</font> 子句中指定的列名（也就是聚合键）\n",
    "    \n",
    "    \n",
    "* 使用 聚合函数 和 <font color='blue'>GROUP BY</font> 常见错误:\n",
    "    * 把聚合键之外的列名，写在 <font color='blue'>SELECT</font> 子句之中。即除了 <font color='blue'>GROUP BY</font> 中的 c1, c2 外，不能有其他列。\n",
    "    * 在 <font color='blue'>GROUP BY</font> 子句中不能使用 <font color='blue'>SELECT</font> 子句中定义的别名。\n",
    "    * <font color='blue'>GROUP BY</font> 子句结果的显示是无序的。\n",
    "    * 只有 <font color='blue'>SELECT</font> 子句和 <font color='blue'>HAVING</font> 子句（以及 <font color='blue'>ORDER BY</font> 子句）中能够使用聚合函数。\n",
    "\n",
    "\n",
    "* <font color='blue'>HAVE</font> 子句中能够使用的3种要素如下所示(和 <font color='blue'>WHERE</font> 不同，不能随意用列运算符)。\n",
    "    * 常数\n",
    "    * 聚合函数\n",
    "    * <font color='blue'>GROUP BY</font>子句中指定的列名（即聚合键）\n",
    "\n",
    "<font color='blue'>WHERE</font> 子句 = 指定行所对应的条件<br>\n",
    "<font color='blue'>HAVE</font> 子句 = 指定组所对应的条件\n",
    "\n",
    "##### <font color='green'>子句书写顺序：</font>\n",
    "1. SELECT $\\rightarrow$ 2. FROM $\\rightarrow$ 3. WHERE $\\rightarrow$ 4. GROUP BY $\\rightarrow$ 5. HAVING $\\rightarrow$ 6. ORDER BY\n",
    "\n",
    "##### <font color='red'>程序执行顺序：</font>\n",
    "1. FROM $\\rightarrow$ 2. WHERE $\\rightarrow$ 3. GROUP BY $\\rightarrow$ 4. HAVING $\\rightarrow$ 5. SELECT $\\rightarrow$ 6. ORDER BY"
   ]
  },
  {
   "cell_type": "markdown",
   "metadata": {},
   "source": [
    "# Managing Data"
   ]
  },
  {
   "cell_type": "markdown",
   "metadata": {},
   "source": [
    "##### 创建数据库:\n",
    "<b><font color='blue'>CREATE DATABASE</font> D_name;</b><br>\n",
    "\n",
    "##### 创建表:\n",
    "<b><font color='blue'>CREATE TABLE</font> t_name (<br>\n",
    "c1 <font color='blue'>INT</font> <font color='green'>PRIMARY KEY</font>,<br>\n",
    "c2 <font color='blue'>VARCHAR</font> <font color='green'>NOT NULL</font>,<br>\n",
    "c3 <font color='blue'>FLOAT</font> <font color='green'>DEFAULT 0</font><br>\n",
    ");</b><br>\n",
    "\n",
    "##### 删除整个表:\n",
    "<b><font color='blue'>DROP TABLE</font> t_name;</b><br>\n",
    "\n",
    "##### 删除表内数据，保留 Header:\n",
    "<b><font color='blue'>TRUNCATE TABLE</font> t_name;</b><br>\n",
    "或者删除指定数据行:<br>\n",
    "<b><font color='blue'>DELETE FROM</font> t_name<br>\n",
    "<font color='blue'>WHERE</font> condition</b><br> \n",
    "* <font color='blue'>DELETE </font>可以通过 <font color='blue'>WHERE</font> 子句指定对象条件来删除部分数据。\n",
    "* <font color='blue'>TRUNCATE </font>只能删除表中的全部数据，而不能通过 <font color='blue'>WHERE</font> 子句指定条件来删除部分数据。\n",
    "\n",
    "##### 更新表定义: (如果是表中数值，则用 <font color='blue'>UPDATE</font> )\n",
    "添加列:<br>\n",
    "<b><font color='blue'>ALTER TABLE</font> t_name <font color='blue'>ADD COLUMN</font> c1；</b><br>\n",
    "删除列:<br>\n",
    "<b><font color='blue'>ALTER TABLE</font> t_name <font color='blue'>DROP COLUMN</font> c1；</b><br>\n",
    "更改列名:<br>\n",
    "<b><font color='blue'>ALTER TABLE</font> t_name <font color='blue'>RENAME</font> c1 <font color='blue'>TO</font> c2；</b><br>\n",
    "\n",
    "##### 变更表名:\n",
    "* PostgreSQL/Oracle: <b><font color='blue'>ALTER TABLE</font> t1 <font color='blue'>RENAME TO</font> t2；</b><br>\n",
    "* MySQL: <b><font color='blue'>RENAME TABLE</font> t1 <font color='blue'>TO</font> t2；</b><br>\n",
    "* SQL_Server: <b><font color='blue'>SP_RENAME</font> 't1', 'Product'；</b><br>"
   ]
  },
  {
   "cell_type": "markdown",
   "metadata": {},
   "source": [
    "# Modifying Data"
   ]
  },
  {
   "cell_type": "markdown",
   "metadata": {},
   "source": [
    "##### 插入数据：\n",
    "<b><font color='blue'>INSERT INTO</font> t_name (c1, c2, ...)<br>\n",
    "<font color='blue'>VALUES</font> (v1, v2, ...),<br> \n",
    "&nbsp; &nbsp; &nbsp; &nbsp; &nbsp; &nbsp; &nbsp; &nbsp; (x1, x2, ...),<br>\n",
    "&nbsp; &nbsp; &nbsp; &nbsp; &nbsp; &nbsp; &nbsp; &nbsp; ...<br>\n",
    "&nbsp; &nbsp; &nbsp; &nbsp; &nbsp; &nbsp; &nbsp; &nbsp; (z1, z2, ...);</b><br>\n",
    "在表 t_name 中，对应列 c1, c2, ... 依次插入多行数据。插入一行只需保留(v1, v2, ...)，删除其他 VALUES。\n",
    "\n",
    "* 在 <font color='blue'>VALUES</font> 子句中使用 <font color='blue'>DEFAULT</font> 指定该对应列使用默认值。\n",
    "* 省略 <font color='blue'>INSERT</font> 语句中的列名，就会自动设定为该列的默认值(没有默认值时会设定为 <font color='blue'>NULL</font>)。\n",
    "\n",
    "从其他表中复制数据:<br>\n",
    "<b><font color='blue'>INSERT INTO</font> t1 (c1, c2, ...)<br>\n",
    "<font color='blue'>SELECT</font> cx, <font color='green'>aggregate</font><font color='blue'>(</font>cy<font color='blue'>)</font>, ...<br> \n",
    "<font color='blue'>FROM</font> t2</b><br>\n",
    "\n",
    "<font color='blue'>INSERT INTO</font>语句的 <font color='blue'>SELECT</font> 语句中，可以使用 <font color='blue'>WHERE</font> 子句或者 <font color='blue'>GROUP BY</font> 子句等任何SQL语法（ 但使用 <font color='blue'>ORDER BY</font> 子句并不会产生任何效果）。\n",
    "\n",
    "##### 改变表中已有数值: (可使用指定条件 <font color='blue'>WHERE</font>，更新部分数据行)\n",
    "<b><font color='blue'>UPDATE</font> t1<br>\n",
    "<font color='blue'>SET</font> cx = 数值 或者 表达式 ,<br>\n",
    "&nbsp; &nbsp; &nbsp; &nbsp; cy = 数值 或者 表达式<br>\n",
    "<font color='blue'>WHERE</font> condition ;</b><br>"
   ]
  },
  {
   "cell_type": "markdown",
   "metadata": {},
   "source": [
    "# Managing VIEWs"
   ]
  },
  {
   "cell_type": "markdown",
   "metadata": {},
   "source": [
    "视图保存的是 <font color='blue'>SELECT</font> 语句，但是视图不保存数据。从视图中读取数据时，视图会在内部执行该 <font color='blue'>SELECT</font> 语句并创建出一张临时表。应该将经常使用的 <font color='blue'>SELECT</font> 语句做成视图。\n",
    "\n",
    "##### 创建视图：\n",
    "<b><font color='blue'>CREATE VIEW</font> v (c1,c2)<br>\n",
    "<font color='blue'>AS<br>\n",
    "SELECT</font> 语句... ;</b><br>\n",
    "\n",
    "定义视图时可以使用任何 <font color='blue'>SELECT</font> 语句，既可以使用 <font color='blue'>WHERE、GROUP BY、HAVING</font> (但不能使用 <font color='blue'>ORDER BY</font>)，也可以通过 <font color='blue'>SELECT *</font> 来指定全部列。<br>\n",
    "\n",
    "应该避免在视图的基础上创建视图。\n",
    "\n",
    "##### 使用视图：\n",
    "视图和表一样，可以书写在 <font color='blue'>SELECT</font> 语句的 <font color='blue'>FROM</font> 子句之中。\n",
    "\n",
    "<b><font color='blue'>SELECT</font> c1, c2, ...<br>\n",
    "<font color='blue'>FROM</font> view_name, ... ;</b><br>\n",
    "\n",
    "通过汇总(如 <font color='blue'>GROUP BY</font>)得到的视图无法进行更新(使用 <font color='blue'>INSERT，DELETE，UPDATE</font>)。\n",
    "\n",
    "##### 删除视图:\n",
    "<b><font color='blue'>DROP VIEW</font> view1, view2, ... ;</b><br>"
   ]
  },
  {
   "cell_type": "markdown",
   "metadata": {},
   "source": [
    "<b><font color='blue'>SELECT</font> c1, c2 <font color='blue'>FROM</font> t;</b><br>\n",
    "获取表 t 中的列 c1 和列 c2 的数据。"
   ]
  },
  {
   "cell_type": "code",
   "execution_count": null,
   "metadata": {},
   "outputs": [],
   "source": []
  }
 ],
 "metadata": {
  "kernelspec": {
   "display_name": "Python 3",
   "language": "python",
   "name": "python3"
  },
  "language_info": {
   "codemirror_mode": {
    "name": "ipython",
    "version": 3
   },
   "file_extension": ".py",
   "mimetype": "text/x-python",
   "name": "python",
   "nbconvert_exporter": "python",
   "pygments_lexer": "ipython3",
   "version": "3.7.3"
  },
  "toc": {
   "base_numbering": 1,
   "nav_menu": {},
   "number_sections": false,
   "sideBar": true,
   "skip_h1_title": false,
   "title_cell": "Table of Contents",
   "title_sidebar": "Contents",
   "toc_cell": false,
   "toc_position": {},
   "toc_section_display": true,
   "toc_window_display": true
  },
  "varInspector": {
   "cols": {
    "lenName": 16,
    "lenType": 16,
    "lenVar": 40
   },
   "kernels_config": {
    "python": {
     "delete_cmd_postfix": "",
     "delete_cmd_prefix": "del ",
     "library": "var_list.py",
     "varRefreshCmd": "print(var_dic_list())"
    },
    "r": {
     "delete_cmd_postfix": ") ",
     "delete_cmd_prefix": "rm(",
     "library": "var_list.r",
     "varRefreshCmd": "cat(var_dic_list()) "
    }
   },
   "types_to_exclude": [
    "module",
    "function",
    "builtin_function_or_method",
    "instance",
    "_Feature"
   ],
   "window_display": false
  }
 },
 "nbformat": 4,
 "nbformat_minor": 2
}
