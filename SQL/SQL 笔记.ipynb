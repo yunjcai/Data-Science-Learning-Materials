{
 "cells": [
  {
   "cell_type": "markdown",
   "metadata": {},
   "source": [
    "# Querying Data From A Table"
   ]
  },
  {
   "cell_type": "markdown",
   "metadata": {},
   "source": [
    "<b><font color='blue'>SELECT</font> c1, c2 * 2 <font color='blue'>AS</font> \"2倍c2\", 5 <font color='blue'>FROM</font> t<br>\n",
    "<font color='blue'>WHERE</font> condition<br>\n",
    "<font color='blue'>ORDER BY</font> cx <font color='purple'>DESC</font><br>\n",
    "<font color='blue'>LIMIT</font> n;</b><br>\n",
    "* 获取表 t 中的列 c1 , 2倍的列 c2 值, 常数 5 的数据 (如使用 <b><font color='blue'>*</font></b> 则为获取所有列)。<br>\n",
    "* 可(选择性)使用关键字 <font color='blue'>AS</font> 为列设定别名。使用中文别名需用双引号 \" \" (不是单引号 ' )。<br>\n",
    "* 可以在第一个列 c1 前使用 <font color='blue'>DISTINCT</font> 可以删除重复行。(<font color='blue'>DISTINCT</font> 关键字只能用在第一个列 c1 之前。不能在其他列之前)<br>\n",
    "* 通过 <font color='blue'>WHERE</font> 子句来指定查询数据的条件。<font color='blue'>WHERE</font> 子句必须紧跟在 <font color='blue'>FROM</font> 子句之后。首先通过 <font color='blue'>WHERE</font> 子句查询出符合指定条件的记录，然后再选取出 <font color='blue'>SELECT</font> 语句指定的列。<br>\n",
    "* 是否为 <font color='blue'>NULL</font> 要用 <font color='blue'>IS (NOT) NULL</font> 运算符。<br>\n",
    "<img src='https://github.com/yunjcai/Data-Science-Learning-Materials/blob/master/SQL/SQL%20%E5%9F%BA%E7%A1%80%E6%95%99%E7%A8%8B%E7%AC%94%E8%AE%B0/1.JPG?raw=true' width='150'><br>\n",
    "* <font color='blue'>ORDER BY</font> 默认为 <font color='purple'>ASC</font> 升序。不论何种情况，<font color='blue'>ORDER BY</font> 子句都需要写在 <font color='blue'>SELECT</font> 语句的**末尾**(<font color='blue'>LIMIT</font>前)。<br>\n",
    "* <font color='blue'>LIMIT</font> 仅显示头 n 行数据。"
   ]
  },
  {
   "cell_type": "markdown",
   "metadata": {},
   "source": [
    "<b><font color='blue'>SELECT</font> c1, c2, 5, <font color='green'>aggregate</font><font color='blue'>(</font>c3<font color='blue'>)</font><br>\n",
    "<font color='blue'>FROM</font> t<br>\n",
    "<font color='blue'>WHERE</font> condition<br>\n",
    "<font color='blue'>GROUP BY</font> c1, c2<br>\n",
    "<font color='blue'>HAVING</font> condition<br>\n",
    "<font color='blue'>ORDER BY</font> cx <font color='purple'>DESC</font>;</b><br>\n",
    "\n",
    "* <font color='green'>aggregate</font><font color='blue'>(</font><font color='blue'>)</font> 聚合函数：\n",
    "    * <font color='green'>COUNT</font>： 计算表中的记录数（行数）。<font color='green'>COUNT</font><font color='blue'>(</font>*<font color='blue'>)</font>会得到包含NULL的数据行数，而<font color='green'>COUNT</font><font color='blue'>(</font><列名><font color='blue'>)</font> 会得到NULL之外的数据行数。\n",
    "    * <font color='green'>SUM</font>： 计算表中数值列中数据的总和值(只能数值型列)\n",
    "    * <font color='green'>AVG</font>： 计算表中数值列中数据的平均值(只能数值型列)\n",
    "    * <font color='green'>MAX</font>： 求出表中任意列中数据的最大值\n",
    "    * <font color='green'>MIN</font>： 求出表中任意列中数据的最小值\n",
    "    \n",
    "    \n",
    "* 不使用 <font color='blue'>GROUP BY</font> 子句时，是将表中的所有数据作为一组来对待的。而使用 <font color='blue'>GROUP BY</font> 子句时，会将表中的数据分为多个组进行处理。  \n",
    "\n",
    "\n",
    "* 使用 <font color='blue'>GROUP BY</font>时，<font color='blue'>SELECT</font> 子句中只能存在以下三种元素。\n",
    "    * 常数\n",
    "    * 聚合函数\n",
    "    * <font color='blue'>GROUP BY</font> 子句中指定的列名（也就是聚合键）\n",
    "    \n",
    "    \n",
    "* 使用 聚合函数 和 <font color='blue'>GROUP BY</font> 常见错误:\n",
    "    * 把聚合键之外的列名，写在 <font color='blue'>SELECT</font> 子句之中。即除了 <font color='blue'>GROUP BY</font> 中的 c1, c2 外，不能有其他列。\n",
    "    * 在 <font color='blue'>GROUP BY</font> 子句中不能使用 <font color='blue'>SELECT</font> 子句中定义的别名。\n",
    "    * <font color='blue'>GROUP BY</font> 子句结果的显示是无序的。\n",
    "    * 只有 <font color='blue'>SELECT</font> 子句和 <font color='blue'>HAVING</font> 子句（以及 <font color='blue'>ORDER BY</font> 子句）中能够使用聚合函数。\n",
    "\n",
    "\n",
    "* <font color='blue'>HAVE</font> 子句中能够使用的3种要素如下所示(和 <font color='blue'>WHERE</font> 不同，不能随意用列运算符)。\n",
    "    * 常数\n",
    "    * 聚合函数\n",
    "    * <font color='blue'>GROUP BY</font>子句中指定的列名（即聚合键）\n",
    "\n",
    "<font color='blue'>WHERE</font> 子句 = 指定行所对应的条件<br>\n",
    "<font color='blue'>HAVE</font> 子句 = 指定组所对应的条件\n",
    "\n",
    "\n",
    "\n"
   ]
  },
  {
   "cell_type": "markdown",
   "metadata": {},
   "source": [
    "##### <font color='green'>子句书写顺序：</font>\n",
    "1. SELECT $\\rightarrow$ 2. FROM $\\rightarrow$ 3. WHERE $\\rightarrow$ 4. GROUP BY $\\rightarrow$ 5. HAVING $\\rightarrow$ 6. ORDER BY\n",
    "\n",
    "##### <font color='red'>程序执行顺序：</font>\n",
    "1. FROM $\\rightarrow$ 2. WHERE $\\rightarrow$ 3. GROUP BY $\\rightarrow$ 4. HAVING $\\rightarrow$ 5. SELECT $\\rightarrow$ 6. ORDER BY"
   ]
  },
  {
   "cell_type": "markdown",
   "metadata": {},
   "source": [
    "# Managing Data"
   ]
  },
  {
   "cell_type": "markdown",
   "metadata": {},
   "source": [
    "创建数据库:<br>\n",
    "<font color='blue'>CREATE DATABASE</font> D_name;<br>\n",
    "\n",
    "创建表:<br>\n",
    "<font color='blue'>CREATE TABLE</font> t_name (<br>\n",
    "c1 <font color='blue'>INT</font> <font color='green'>PRIMARY KEY</font>,<br>\n",
    "c2 <font color='blue'>VARCHAR</font> <font color='green'>NOT NULL</font>,<br>\n",
    "c3 <font color='blue'>FLOAT</font> <font color='green'>DEFAULT 0</font><br>\n",
    ");<br>\n",
    "\n",
    "删除整个表:<br>\n",
    "<font color='blue'>DROP TABLE</font> t_name;<br>\n",
    "\n",
    "删除表内数据，保留 Header:<br>\n",
    "<font color='blue'>TRUNCATE TABLE</font> t_name;<br>\n",
    "\n",
    "更新表定义:<br>\n",
    "添加列:<br>\n",
    "<font color='blue'>ALTER TABLE</font> t_name <font color='blue'>ADD COLUMN</font> c1；<br>\n",
    "删除列:<br>\n",
    "<font color='blue'>ALTER TABLE</font> t_name <font color='blue'>DROP COLUMN</font> c1；<br>\n",
    "更改列名:<br>\n",
    "<font color='blue'>ALTER TABLE</font> t_name <font color='blue'>RENAME</font> c1 <font color='blue'>TO</font> c2；<br>\n",
    "\n",
    "变更表名:<br>\n",
    "* PostgreSQL/Oracle: <font color='blue'>ALTER TABLE</font> t1 <font color='blue'>RENAME TO</font> t2；<br>\n",
    "* MySQL: <font color='blue'>RENAME TABLE</font> t1 <font color='blue'>TO</font> t2；<br>\n",
    "* SQL_Server: <font color='blue'>SP_RENAME</font> 't1', 'Product'；<br>"
   ]
  },
  {
   "cell_type": "markdown",
   "metadata": {},
   "source": [
    "# Modifying Data"
   ]
  },
  {
   "cell_type": "markdown",
   "metadata": {},
   "source": [
    "<b><font color='blue'>SELECT</font> c1, c2 <font color='blue'>FROM</font> t;</b><br>\n",
    "获取表 t 中的列 c1 和列 c2 的数据。"
   ]
  },
  {
   "cell_type": "markdown",
   "metadata": {},
   "source": [
    "<b><font color='blue'>SELECT</font> c1, c2 <font color='blue'>FROM</font> t;</b><br>\n",
    "获取表 t 中的列 c1 和列 c2 的数据。"
   ]
  },
  {
   "cell_type": "markdown",
   "metadata": {},
   "source": [
    "<b><font color='blue'>SELECT</font> c1, c2 <font color='blue'>FROM</font> t;</b><br>\n",
    "获取表 t 中的列 c1 和列 c2 的数据。"
   ]
  },
  {
   "cell_type": "markdown",
   "metadata": {},
   "source": [
    "<b><font color='blue'>SELECT</font> c1, c2 <font color='blue'>FROM</font> t;</b><br>\n",
    "获取表 t 中的列 c1 和列 c2 的数据。"
   ]
  },
  {
   "cell_type": "code",
   "execution_count": null,
   "metadata": {},
   "outputs": [],
   "source": []
  }
 ],
 "metadata": {
  "kernelspec": {
   "display_name": "Python 3",
   "language": "python",
   "name": "python3"
  },
  "language_info": {
   "codemirror_mode": {
    "name": "ipython",
    "version": 3
   },
   "file_extension": ".py",
   "mimetype": "text/x-python",
   "name": "python",
   "nbconvert_exporter": "python",
   "pygments_lexer": "ipython3",
   "version": "3.7.3"
  },
  "toc": {
   "base_numbering": 1,
   "nav_menu": {},
   "number_sections": false,
   "sideBar": true,
   "skip_h1_title": false,
   "title_cell": "Table of Contents",
   "title_sidebar": "Contents",
   "toc_cell": false,
   "toc_position": {},
   "toc_section_display": true,
   "toc_window_display": false
  },
  "varInspector": {
   "cols": {
    "lenName": 16,
    "lenType": 16,
    "lenVar": 40
   },
   "kernels_config": {
    "python": {
     "delete_cmd_postfix": "",
     "delete_cmd_prefix": "del ",
     "library": "var_list.py",
     "varRefreshCmd": "print(var_dic_list())"
    },
    "r": {
     "delete_cmd_postfix": ") ",
     "delete_cmd_prefix": "rm(",
     "library": "var_list.r",
     "varRefreshCmd": "cat(var_dic_list()) "
    }
   },
   "types_to_exclude": [
    "module",
    "function",
    "builtin_function_or_method",
    "instance",
    "_Feature"
   ],
   "window_display": false
  }
 },
 "nbformat": 4,
 "nbformat_minor": 2
}
